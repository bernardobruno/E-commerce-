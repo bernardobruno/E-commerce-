{
 "cells": [
  {
   "cell_type": "code",
   "execution_count": 1,
   "metadata": {},
   "outputs": [],
   "source": [
    "import pandas as pd\n",
    "from matplotlib import pyplot as plt\n",
    "import seaborn as sns\n",
    "from scipy import stats"
   ]
  },
  {
   "cell_type": "code",
   "execution_count": 2,
   "metadata": {},
   "outputs": [],
   "source": [
    "df_smartphone = pd.read_json('/Users/brunobernardo/E-commerce-/Smartphones/search_output.jsonl')"
   ]
  },
  {
   "cell_type": "code",
   "execution_count": 3,
   "metadata": {},
   "outputs": [
    {
     "data": {
      "text/html": [
       "<div>\n",
       "<style scoped>\n",
       "    .dataframe tbody tr th:only-of-type {\n",
       "        vertical-align: middle;\n",
       "    }\n",
       "\n",
       "    .dataframe tbody tr th {\n",
       "        vertical-align: top;\n",
       "    }\n",
       "\n",
       "    .dataframe thead th {\n",
       "        text-align: right;\n",
       "    }\n",
       "</style>\n",
       "<table border=\"1\" class=\"dataframe\">\n",
       "  <thead>\n",
       "    <tr style=\"text-align: right;\">\n",
       "      <th></th>\n",
       "      <th>title</th>\n",
       "      <th>url</th>\n",
       "      <th>rating</th>\n",
       "      <th>review_count</th>\n",
       "      <th>price</th>\n",
       "    </tr>\n",
       "  </thead>\n",
       "  <tbody>\n",
       "    <tr>\n",
       "      <th>0</th>\n",
       "      <td>SAMSUNG Galaxy S20 FE 5G Factory Unlocked Andr...</td>\n",
       "      <td>https://www.amazon.com/gp/slredirect/picassoRe...</td>\n",
       "      <td>4.6 out of 5 stars</td>\n",
       "      <td>4,936</td>\n",
       "      <td>$599.99</td>\n",
       "    </tr>\n",
       "    <tr>\n",
       "      <th>1</th>\n",
       "      <td>Xgody X3 Smartphone Unlocked, 6.26” HD Perfora...</td>\n",
       "      <td>https://www.amazon.com/gp/slredirect/picassoRe...</td>\n",
       "      <td>3.3 out of 5 stars</td>\n",
       "      <td>37</td>\n",
       "      <td>$84.99</td>\n",
       "    </tr>\n",
       "    <tr>\n",
       "      <th>2</th>\n",
       "      <td>Samsung Galaxy A21s (A217F) 128GB, Dual-SIM, 6...</td>\n",
       "      <td>https://www.amazon.com/Samsung-Dual-SIM-Infini...</td>\n",
       "      <td>4.1 out of 5 stars</td>\n",
       "      <td>62</td>\n",
       "      <td>$219.99</td>\n",
       "    </tr>\n",
       "    <tr>\n",
       "      <th>3</th>\n",
       "      <td>Nokia 3V TA-1182 16GB 6.26\" HD+ Display 13MP C...</td>\n",
       "      <td>https://www.amazon.com/Nokia-TA-1182-Smartphon...</td>\n",
       "      <td>3.3 out of 5 stars</td>\n",
       "      <td>12</td>\n",
       "      <td>None</td>\n",
       "    </tr>\n",
       "    <tr>\n",
       "      <th>4</th>\n",
       "      <td>DOOGEE S59 Pro Unlocked Rugged Smartphone 1005...</td>\n",
       "      <td>https://www.amazon.com/DOOGEE-S59-Pro-Smartpho...</td>\n",
       "      <td>4.3 out of 5 stars</td>\n",
       "      <td>119</td>\n",
       "      <td>$239.99</td>\n",
       "    </tr>\n",
       "    <tr>\n",
       "      <th>...</th>\n",
       "      <td>...</td>\n",
       "      <td>...</td>\n",
       "      <td>...</td>\n",
       "      <td>...</td>\n",
       "      <td>...</td>\n",
       "    </tr>\n",
       "    <tr>\n",
       "      <th>1139</th>\n",
       "      <td>Moto G7 Plus | Unlocked | Made for US by Motor...</td>\n",
       "      <td>https://www.amazon.com/Moto-Unlocked-Motorola-...</td>\n",
       "      <td>4.5 out of 5 stars</td>\n",
       "      <td>1,898</td>\n",
       "      <td>None</td>\n",
       "    </tr>\n",
       "    <tr>\n",
       "      <th>1140</th>\n",
       "      <td>Motorola One Fusion | Unlocked | GSM Only | 4/...</td>\n",
       "      <td>https://www.amazon.com/Motorola-Fusion-Unlocke...</td>\n",
       "      <td>4.4 out of 5 stars</td>\n",
       "      <td>161</td>\n",
       "      <td>$149.99</td>\n",
       "    </tr>\n",
       "    <tr>\n",
       "      <th>1141</th>\n",
       "      <td>Moto G Stylus 5G | 2021 | 2-Day Battery | Unlo...</td>\n",
       "      <td>https://www.amazon.com/Stylus-Battery-Unlocked...</td>\n",
       "      <td>4.7 out of 5 stars</td>\n",
       "      <td>18</td>\n",
       "      <td>$399.99</td>\n",
       "    </tr>\n",
       "    <tr>\n",
       "      <th>1142</th>\n",
       "      <td>Samsung Galaxy A42 5G, Factory Unlocked Smartp...</td>\n",
       "      <td>https://www.amazon.com/gp/slredirect/picassoRe...</td>\n",
       "      <td>5.0 out of 5 stars</td>\n",
       "      <td>3</td>\n",
       "      <td>$349.99</td>\n",
       "    </tr>\n",
       "    <tr>\n",
       "      <th>1143</th>\n",
       "      <td>Xgody Mate10+ Smartphone Unlocked, Android 8.1...</td>\n",
       "      <td>https://www.amazon.com/gp/slredirect/picassoRe...</td>\n",
       "      <td>3.3 out of 5 stars</td>\n",
       "      <td>121</td>\n",
       "      <td>$65.99</td>\n",
       "    </tr>\n",
       "  </tbody>\n",
       "</table>\n",
       "<p>1144 rows × 5 columns</p>\n",
       "</div>"
      ],
      "text/plain": [
       "                                                  title  \\\n",
       "0     SAMSUNG Galaxy S20 FE 5G Factory Unlocked Andr...   \n",
       "1     Xgody X3 Smartphone Unlocked, 6.26” HD Perfora...   \n",
       "2     Samsung Galaxy A21s (A217F) 128GB, Dual-SIM, 6...   \n",
       "3     Nokia 3V TA-1182 16GB 6.26\" HD+ Display 13MP C...   \n",
       "4     DOOGEE S59 Pro Unlocked Rugged Smartphone 1005...   \n",
       "...                                                 ...   \n",
       "1139  Moto G7 Plus | Unlocked | Made for US by Motor...   \n",
       "1140  Motorola One Fusion | Unlocked | GSM Only | 4/...   \n",
       "1141  Moto G Stylus 5G | 2021 | 2-Day Battery | Unlo...   \n",
       "1142  Samsung Galaxy A42 5G, Factory Unlocked Smartp...   \n",
       "1143  Xgody Mate10+ Smartphone Unlocked, Android 8.1...   \n",
       "\n",
       "                                                    url              rating  \\\n",
       "0     https://www.amazon.com/gp/slredirect/picassoRe...  4.6 out of 5 stars   \n",
       "1     https://www.amazon.com/gp/slredirect/picassoRe...  3.3 out of 5 stars   \n",
       "2     https://www.amazon.com/Samsung-Dual-SIM-Infini...  4.1 out of 5 stars   \n",
       "3     https://www.amazon.com/Nokia-TA-1182-Smartphon...  3.3 out of 5 stars   \n",
       "4     https://www.amazon.com/DOOGEE-S59-Pro-Smartpho...  4.3 out of 5 stars   \n",
       "...                                                 ...                 ...   \n",
       "1139  https://www.amazon.com/Moto-Unlocked-Motorola-...  4.5 out of 5 stars   \n",
       "1140  https://www.amazon.com/Motorola-Fusion-Unlocke...  4.4 out of 5 stars   \n",
       "1141  https://www.amazon.com/Stylus-Battery-Unlocked...  4.7 out of 5 stars   \n",
       "1142  https://www.amazon.com/gp/slredirect/picassoRe...  5.0 out of 5 stars   \n",
       "1143  https://www.amazon.com/gp/slredirect/picassoRe...  3.3 out of 5 stars   \n",
       "\n",
       "     review_count    price  \n",
       "0           4,936  $599.99  \n",
       "1              37   $84.99  \n",
       "2              62  $219.99  \n",
       "3              12     None  \n",
       "4             119  $239.99  \n",
       "...           ...      ...  \n",
       "1139        1,898     None  \n",
       "1140          161  $149.99  \n",
       "1141           18  $399.99  \n",
       "1142            3  $349.99  \n",
       "1143          121   $65.99  \n",
       "\n",
       "[1144 rows x 5 columns]"
      ]
     },
     "execution_count": 3,
     "metadata": {},
     "output_type": "execute_result"
    }
   ],
   "source": [
    "df_smartphone"
   ]
  },
  {
   "cell_type": "code",
   "execution_count": 4,
   "metadata": {},
   "outputs": [
    {
     "name": "stdout",
     "output_type": "stream",
     "text": [
      "<class 'pandas.core.frame.DataFrame'>\n",
      "RangeIndex: 1144 entries, 0 to 1143\n",
      "Data columns (total 5 columns):\n",
      " #   Column        Non-Null Count  Dtype \n",
      "---  ------        --------------  ----- \n",
      " 0   title         1144 non-null   object\n",
      " 1   url           1144 non-null   object\n",
      " 2   rating        1086 non-null   object\n",
      " 3   review_count  1086 non-null   object\n",
      " 4   price         838 non-null    object\n",
      "dtypes: object(5)\n",
      "memory usage: 44.8+ KB\n"
     ]
    }
   ],
   "source": [
    "df_smartphone.info()"
   ]
  },
  {
   "cell_type": "code",
   "execution_count": 5,
   "metadata": {},
   "outputs": [
    {
     "data": {
      "text/plain": [
       "(1144, 5)"
      ]
     },
     "execution_count": 5,
     "metadata": {},
     "output_type": "execute_result"
    }
   ],
   "source": [
    "df_smartphone.shape"
   ]
  },
  {
   "cell_type": "code",
   "execution_count": 6,
   "metadata": {},
   "outputs": [
    {
     "data": {
      "text/plain": [
       "0       599.99\n",
       "1        84.99\n",
       "2       219.99\n",
       "3         None\n",
       "4       239.99\n",
       "         ...  \n",
       "1139      None\n",
       "1140    149.99\n",
       "1141    399.99\n",
       "1142    349.99\n",
       "1143     65.99\n",
       "Name: price, Length: 1144, dtype: object"
      ]
     },
     "execution_count": 6,
     "metadata": {},
     "output_type": "execute_result"
    }
   ],
   "source": [
    "df_smartphone['price'] = df_smartphone['price'].str.replace('$', '')\n",
    "df_smartphone['price']"
   ]
  },
  {
   "cell_type": "code",
   "execution_count": 7,
   "metadata": {},
   "outputs": [
    {
     "data": {
      "text/html": [
       "<div>\n",
       "<style scoped>\n",
       "    .dataframe tbody tr th:only-of-type {\n",
       "        vertical-align: middle;\n",
       "    }\n",
       "\n",
       "    .dataframe tbody tr th {\n",
       "        vertical-align: top;\n",
       "    }\n",
       "\n",
       "    .dataframe thead th {\n",
       "        text-align: right;\n",
       "    }\n",
       "</style>\n",
       "<table border=\"1\" class=\"dataframe\">\n",
       "  <thead>\n",
       "    <tr style=\"text-align: right;\">\n",
       "      <th></th>\n",
       "      <th>title</th>\n",
       "      <th>url</th>\n",
       "      <th>rating</th>\n",
       "      <th>review_count</th>\n",
       "      <th>price</th>\n",
       "    </tr>\n",
       "  </thead>\n",
       "  <tbody>\n",
       "    <tr>\n",
       "      <th>0</th>\n",
       "      <td>SAMSUNG Galaxy S20 FE 5G Factory Unlocked Andr...</td>\n",
       "      <td>https://www.amazon.com/gp/slredirect/picassoRe...</td>\n",
       "      <td>4.6 out of 5 stars</td>\n",
       "      <td>4,936</td>\n",
       "      <td>599.99</td>\n",
       "    </tr>\n",
       "    <tr>\n",
       "      <th>1</th>\n",
       "      <td>Xgody X3 Smartphone Unlocked, 6.26” HD Perfora...</td>\n",
       "      <td>https://www.amazon.com/gp/slredirect/picassoRe...</td>\n",
       "      <td>3.3 out of 5 stars</td>\n",
       "      <td>37</td>\n",
       "      <td>84.99</td>\n",
       "    </tr>\n",
       "    <tr>\n",
       "      <th>2</th>\n",
       "      <td>Samsung Galaxy A21s (A217F) 128GB, Dual-SIM, 6...</td>\n",
       "      <td>https://www.amazon.com/Samsung-Dual-SIM-Infini...</td>\n",
       "      <td>4.1 out of 5 stars</td>\n",
       "      <td>62</td>\n",
       "      <td>219.99</td>\n",
       "    </tr>\n",
       "    <tr>\n",
       "      <th>3</th>\n",
       "      <td>Nokia 3V TA-1182 16GB 6.26\" HD+ Display 13MP C...</td>\n",
       "      <td>https://www.amazon.com/Nokia-TA-1182-Smartphon...</td>\n",
       "      <td>3.3 out of 5 stars</td>\n",
       "      <td>12</td>\n",
       "      <td>None</td>\n",
       "    </tr>\n",
       "    <tr>\n",
       "      <th>4</th>\n",
       "      <td>DOOGEE S59 Pro Unlocked Rugged Smartphone 1005...</td>\n",
       "      <td>https://www.amazon.com/DOOGEE-S59-Pro-Smartpho...</td>\n",
       "      <td>4.3 out of 5 stars</td>\n",
       "      <td>119</td>\n",
       "      <td>239.99</td>\n",
       "    </tr>\n",
       "  </tbody>\n",
       "</table>\n",
       "</div>"
      ],
      "text/plain": [
       "                                               title  \\\n",
       "0  SAMSUNG Galaxy S20 FE 5G Factory Unlocked Andr...   \n",
       "1  Xgody X3 Smartphone Unlocked, 6.26” HD Perfora...   \n",
       "2  Samsung Galaxy A21s (A217F) 128GB, Dual-SIM, 6...   \n",
       "3  Nokia 3V TA-1182 16GB 6.26\" HD+ Display 13MP C...   \n",
       "4  DOOGEE S59 Pro Unlocked Rugged Smartphone 1005...   \n",
       "\n",
       "                                                 url              rating  \\\n",
       "0  https://www.amazon.com/gp/slredirect/picassoRe...  4.6 out of 5 stars   \n",
       "1  https://www.amazon.com/gp/slredirect/picassoRe...  3.3 out of 5 stars   \n",
       "2  https://www.amazon.com/Samsung-Dual-SIM-Infini...  4.1 out of 5 stars   \n",
       "3  https://www.amazon.com/Nokia-TA-1182-Smartphon...  3.3 out of 5 stars   \n",
       "4  https://www.amazon.com/DOOGEE-S59-Pro-Smartpho...  4.3 out of 5 stars   \n",
       "\n",
       "  review_count   price  \n",
       "0        4,936  599.99  \n",
       "1           37   84.99  \n",
       "2           62  219.99  \n",
       "3           12    None  \n",
       "4          119  239.99  "
      ]
     },
     "execution_count": 7,
     "metadata": {},
     "output_type": "execute_result"
    }
   ],
   "source": [
    "df_smartphone.head()"
   ]
  },
  {
   "cell_type": "code",
   "execution_count": null,
   "metadata": {},
   "outputs": [],
   "source": []
  }
 ],
 "metadata": {
  "kernelspec": {
   "display_name": "Python 3",
   "language": "python",
   "name": "python3"
  },
  "language_info": {
   "codemirror_mode": {
    "name": "ipython",
    "version": 3
   },
   "file_extension": ".py",
   "mimetype": "text/x-python",
   "name": "python",
   "nbconvert_exporter": "python",
   "pygments_lexer": "ipython3",
   "version": "3.8.5"
  }
 },
 "nbformat": 4,
 "nbformat_minor": 4
}
